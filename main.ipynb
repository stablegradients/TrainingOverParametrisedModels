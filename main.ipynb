{
 "cells": [
  {
   "cell_type": "code",
   "execution_count": 1,
   "metadata": {},
   "outputs": [
    {
     "name": "stdout",
     "output_type": "stream",
     "text": [
      "Thu Feb  3 15:53:02 2022       \n",
      "+-----------------------------------------------------------------------------+\n",
      "| NVIDIA-SMI 495.29.05    Driver Version: 495.29.05    CUDA Version: 11.5     |\n",
      "|-------------------------------+----------------------+----------------------+\n",
      "| GPU  Name        Persistence-M| Bus-Id        Disp.A | Volatile Uncorr. ECC |\n",
      "| Fan  Temp  Perf  Pwr:Usage/Cap|         Memory-Usage | GPU-Util  Compute M. |\n",
      "|                               |                      |               MIG M. |\n",
      "|===============================+======================+======================|\n",
      "|   0  NVIDIA GeForce ...  On   | 00000000:01:00.0 Off |                  N/A |\n",
      "| 81%   75C    P2   339W / 350W |  16256MiB / 24267MiB |    100%      Default |\n",
      "|                               |                      |                  N/A |\n",
      "+-------------------------------+----------------------+----------------------+\n",
      "|   1  NVIDIA RTX A5000    On   | 00000000:21:00.0 Off |                  Off |\n",
      "| 68%   85C    P2   225W / 230W |  16892MiB / 24256MiB |     97%      Default |\n",
      "|                               |                      |                  N/A |\n",
      "+-------------------------------+----------------------+----------------------+\n",
      "|   2  NVIDIA RTX A5000    On   | 00000000:4B:00.0 Off |                  Off |\n",
      "| 54%   79C    P2   216W / 230W |   7508MiB / 24256MiB |     87%      Default |\n",
      "|                               |                      |                  N/A |\n",
      "+-------------------------------+----------------------+----------------------+\n",
      "|   3  NVIDIA RTX A5000    On   | 00000000:4C:00.0 Off |                  Off |\n",
      "| 69%   85C    P2   226W / 230W |  22178MiB / 24256MiB |    100%      Default |\n",
      "|                               |                      |                  N/A |\n",
      "+-------------------------------+----------------------+----------------------+\n",
      "                                                                               \n",
      "+-----------------------------------------------------------------------------+\n",
      "| Processes:                                                                  |\n",
      "|  GPU   GI   CI        PID   Type   Process name                  GPU Memory |\n",
      "|        ID   ID                                                   Usage      |\n",
      "|=============================================================================|\n",
      "|    0   N/A  N/A     25146      G   /usr/lib/xorg/Xorg                 87MiB |\n",
      "|    0   N/A  N/A     25277      G   /usr/bin/gnome-shell               17MiB |\n",
      "|    0   N/A  N/A    106680      G   /usr/lib/xorg/Xorg                 18MiB |\n",
      "|    0   N/A  N/A    106710      G   /usr/bin/gnome-shell               73MiB |\n",
      "|    0   N/A  N/A    127460      C   python                          16053MiB |\n",
      "|    1   N/A  N/A     25146      G   /usr/lib/xorg/Xorg                  4MiB |\n",
      "|    1   N/A  N/A     64369      C   python                          16879MiB |\n",
      "|    1   N/A  N/A    106680      G   /usr/lib/xorg/Xorg                  4MiB |\n",
      "|    2   N/A  N/A     25146      G   /usr/lib/xorg/Xorg                  4MiB |\n",
      "|    2   N/A  N/A     25583      C   python                           7495MiB |\n",
      "|    2   N/A  N/A    106680      G   /usr/lib/xorg/Xorg                  4MiB |\n",
      "|    3   N/A  N/A     25146      G   /usr/lib/xorg/Xorg                  4MiB |\n",
      "|    3   N/A  N/A     36464      C   python                          22165MiB |\n",
      "|    3   N/A  N/A    106680      G   /usr/lib/xorg/Xorg                  4MiB |\n",
      "+-----------------------------------------------------------------------------+\n"
     ]
    }
   ],
   "source": [
    "!nvidia-smi"
   ]
  },
  {
   "cell_type": "code",
   "execution_count": 2,
   "metadata": {},
   "outputs": [],
   "source": [
    "import torch\n",
    "import torchvision\n",
    "import torchvision.transforms as transforms\n",
    "from torch.utils.tensorboard import SummaryWriter"
   ]
  },
  {
   "cell_type": "markdown",
   "metadata": {},
   "source": [
    "### Balanced Trainloaders and Testloaders\n",
    "Now we will create a sample dataset of CIFAR10 which is balanced.\\\n",
    "The CIFAR10 dataset consists of colored images of size 32 X 32 and 5000 images per class in trainset and 1000 images per class in testset.\\\n",
    "The CIFAR100 dataset consists of colored images of size 32 X 32 and 500 images per class in trainset and 100 images per class in testset.\n",
    "\n"
   ]
  },
  {
   "cell_type": "code",
   "execution_count": 3,
   "metadata": {},
   "outputs": [],
   "source": [
    "def sample(dataset=\"cifar10\"):\n",
    "    '''\n",
    "    Returns dataloader and dataset for the trainset and testset respectively\n",
    "    ARGS:\n",
    "        dataset (str): either \"cifar10\" or \"cifar100\" for the corresponding dataset \n",
    "    '''\n",
    "    normalize = transforms.Normalize(mean=[0.5, 0.5, 0.5],\n",
    "                                 std=[1.0, 1.0, 1.0])\n",
    "\n",
    "    train_transform = transforms.Compose([\n",
    "        transforms.RandomHorizontalFlip(),\n",
    "        transforms.RandomCrop(32, 4),\n",
    "        transforms.ToTensor(),\n",
    "        normalize\n",
    "    ])\n",
    "    test_transform = transforms.Compose([\n",
    "        transforms.ToTensor(),\n",
    "        normalize\n",
    "    ])\n",
    "    batch_size = 128\n",
    "    assert dataset in [\"cifar10\", \"cifar100\"]\n",
    "\n",
    "    if dataset == \"cifar10\":\n",
    "        trainset = torchvision.datasets.CIFAR10(root='./data', train=True,\n",
    "                                                download=True, transform=train_transform)\n",
    "\n",
    "        trainloader = torch.utils.data.DataLoader(trainset, batch_size=batch_size,\n",
    "                                                shuffle=True, num_workers=8)\n",
    "        \n",
    "        testset = torchvision.datasets.CIFAR10(root='./data', train=False,\n",
    "                                        download=True, transform=test_transform)\n",
    "        testloader = torch.utils.data.DataLoader(testset, batch_size=batch_size,\n",
    "                                                shuffle=False, num_workers=8)\n",
    "\n",
    "    else:\n",
    "        trainset = torchvision.datasets.CIFAR100(root='./data', train=True,\n",
    "                                                download=True, transform=train_transform)\n",
    "        trainloader = torch.utils.data.DataLoader(trainset, batch_size=batch_size,\n",
    "                                                shuffle=True, num_workers=8)\n",
    "        testset = torchvision.datasets.CIFAR100(root='./data', train=False,\n",
    "                                        download=True, transform=test_transform)\n",
    "        testloader = torch.utils.data.DataLoader(testset, batch_size=batch_size,\n",
    "                                                shuffle=False, num_workers=8)\n",
    "    return trainloader, trainset, testloader, testset"
   ]
  },
  {
   "cell_type": "markdown",
   "metadata": {},
   "source": [
    "### Plot the classwise data distribution\n",
    "We shall plot the number of samples in each class.\\\n",
    "We will also define a function long tail that shall convert the balanced dataset into an unbalanced one given a dataset \\\n",
    "imbalance factor lamda and subsampling the class by a factor of λ^i, where i, is the randomised index given to a class"
   ]
  },
  {
   "cell_type": "code",
   "execution_count": 4,
   "metadata": {},
   "outputs": [],
   "source": [
    "import matplotlib.pyplot as plt\n",
    "import numpy as np\n",
    "import random\n",
    "\n",
    "\n",
    "def show_data_distribution(dataset, keyname=\"no name\"):\n",
    "    '''\n",
    "    Gives you a matplotlib plot of classwise distribution a given dataset\n",
    "    ARGS:\n",
    "        dataset: a torch dataset with classes attr\n",
    "        keyname: whether trainset or testset, will be used in the plot heading\n",
    "    '''\n",
    "    classes = dataset.classes\n",
    "    dataset_elems = len(classes)*[0]\n",
    "    for image, label in dataset:\n",
    "        dataset_elems[label]+=1\n",
    "    plt.bar(list(classes), dataset_elems)\n",
    "    plt.title(keyname)\n",
    "    plt.show()\n",
    "\n",
    "\n",
    "def subsample(dataset, lamda=1, class_indices=None):\n",
    "    '''\n",
    "    Subsample a given dataset with each class subsampled by a factor of λ^i\n",
    "    based on a power law distribution. i is a random class index, i ∈ [number of classes]\n",
    "    given a lambda\n",
    "    ARGS:\n",
    "        dataset         : a torch dataset with classes attr\n",
    "        classes         : (int) num classes in the dataset\n",
    "        lamda           : (float) the power law function base that is used to calculate \n",
    "                          the subsampling proportion\n",
    "        class_indices   : (list) a list on integers, permute of list(range(number of classes))\n",
    "                          if provided, used instead of the random index generation  \n",
    "    RETURNS\n",
    "        the dataset subsampled, the prior, and indices used for the power law function based\n",
    "        subsampling\n",
    "    '''\n",
    "    num_classes = len(dataset.classes)\n",
    "    if class_indices is None:\n",
    "        class_indices = list(range(num_classes))\n",
    "        random.shuffle(class_indices)\n",
    "    \n",
    "    class_probs = [lamda ** x for x in class_indices]\n",
    "    prior = [x/sum(class_probs) for x in class_probs]\n",
    "    select_list = []\n",
    "    \n",
    "    # subsample based on a biased cointoss\n",
    "    for i, (img, label) in enumerate(dataset):\n",
    "        if np.random.binomial(1, class_probs[label]):\n",
    "            select_list.append(i)\n",
    "\n",
    "    dataset.data=dataset.data[np.array(select_list)]\n",
    "    dataset.targets=list(dataset.targets[x] for x in select_list)\n",
    "    return dataset, prior, class_indices"
   ]
  },
  {
   "cell_type": "markdown",
   "metadata": {},
   "source": [
    "### Visualising the modified datasets\n",
    "We shall see how the methods modify our vanilla cifar datasets and plot the dataset distribution.\n",
    "1. the trainset and the test set are not exaclty prior matched\n",
    "2. the trainset and the test set are exaclty prior matched here with a sequentially increasing class index\n",
    "3. inverted train and test distribution, with the prior in trainset and the test set have the largest KL divergence loss here"
   ]
  },
  {
   "cell_type": "code",
   "execution_count": 5,
   "metadata": {},
   "outputs": [
    {
     "name": "stdout",
     "output_type": "stream",
     "text": [
      "Files already downloaded and verified\n",
      "Files already downloaded and verified\n",
      "==================================================\n",
      "==========the trainset and the test set are exaclty prior matched here with a sequentially increasing class index==========\n",
      "the per class priori is as follows\n",
      "airplane  :  0.31\n",
      "automobile  :  0.22\n",
      "bird  :  0.15\n",
      "cat  :  0.11\n",
      "deer  :  0.07\n",
      "dog  :  0.05\n",
      "frog  :  0.04\n",
      "horse  :  0.03\n",
      "ship  :  0.02\n",
      "truck  :  0.01\n"
     ]
    },
    {
     "data": {
      "image/png": "[encoded data removed]",
      "text/plain": [
       "<Figure size 432x288 with 1 Axes>"
      ]
     },
     "metadata": {
      "needs_background": "light"
     },
     "output_type": "display_data"
    },
    {
     "data": {
      "image/png": "[encoded data removed]",
      "text/plain": [
       "<Figure size 432x288 with 1 Axes>"
      ]
     },
     "metadata": {
      "needs_background": "light"
     },
     "output_type": "display_data"
    },
    {
     "name": "stdout",
     "output_type": "stream",
     "text": [
      "Files already downloaded and verified\n",
      "Files already downloaded and verified\n",
      "==================================================\n",
      "========== inverted train and test distribution==========\n",
      "==========the prior in trainset and the test set have the largest KL divergence loss here==========\n",
      "the per class priori is as follows\n",
      "airplane  :  0.01\n",
      "automobile  :  0.02\n",
      "bird  :  0.07\n",
      "cat  :  0.22\n",
      "deer  :  0.03\n",
      "dog  :  0.04\n",
      "frog  :  0.05\n",
      "horse  :  0.31\n",
      "ship  :  0.15\n",
      "truck  :  0.11\n"
     ]
    },
    {
     "data": {
      "image/png": "[encoded data removed]",
      "text/plain": [
       "<Figure size 432x288 with 1 Axes>"
      ]
     },
     "metadata": {
      "needs_background": "light"
     },
     "output_type": "display_data"
    },
    {
     "data": {
      "image/png": "[encoded data removed]",
      "text/plain": [
       "<Figure size 432x288 with 1 Axes>"
      ]
     },
     "metadata": {
      "needs_background": "light"
     },
     "output_type": "display_data"
    }
   ],
   "source": [
    "def long_tail_test():\n",
    "    trainloader, trainset, testloader, testset = sample()\n",
    "    imbalanced_trainset, prior, indices = subsample(trainset, lamda = 0.7, class_indices=list(range(10)))\n",
    "    imbalanced_testset, prior, indices = subsample(testset, lamda = 0.7, class_indices=list(range(10)))\n",
    "\n",
    "    print(\"=\" * 50)\n",
    "    print(\"=\" * 10 + \"the trainset and the test set are exaclty prior matched here with a sequentially increasing class index\" + \"=\" * 10)\n",
    "    print(\"the per class priori is as follows\")\n",
    "    for i, elem in enumerate(imbalanced_trainset.classes):\n",
    "        print(elem, \" : \" , round(prior[i],2))\n",
    "    show_data_distribution(imbalanced_trainset, keyname=\"train dataset\")\n",
    "    show_data_distribution(imbalanced_testset, keyname=\"test dataset\")\n",
    "\n",
    "    trainloader, trainset, testloader, testset = sample()\n",
    "    print(\"=\" * 50)\n",
    "    print(\"=\" * 10 + \" inverted train and test distribution\"  + \"=\" * 10)\n",
    "    print(\"=\" * 10 + \"the prior in trainset and the test set have the largest KL divergence loss here\" + \"=\" * 10)\n",
    "    imbalanced_trainset, prior, indices = subsample(trainset, lamda = 0.7)\n",
    "    imbalanced_testset, prior, indices = subsample(testset, lamda = 0.7, class_indices=[9-x for x in indices])\n",
    "\n",
    "    print(\"the per class priori is as follows\")\n",
    "    for i, elem in enumerate(imbalanced_trainset.classes):\n",
    "        print(elem, \" : \" , round(prior[i],2))\n",
    "    show_data_distribution(imbalanced_trainset, keyname=\"train dataset\")\n",
    "    show_data_distribution(imbalanced_testset, keyname=\"test dataset\")\n",
    "    return\n",
    "\n",
    "long_tail_test()"
   ]
  },
  {
   "cell_type": "code",
   "execution_count": 6,
   "metadata": {},
   "outputs": [],
   "source": [
    "import torch.nn as nn\n",
    "import torch.nn.functional as F\n",
    "\n",
    "class LALoss(nn.Module):\n",
    "    def __init__(self, gain_matrix=np.eye(10)/10, device='cuda:2'):\n",
    "        super(LALoss, self).__init__()\n",
    "        self.device = torch.device(device)\n",
    "        self.adjustment = torch.log(torch.tensor(np.diag(gain_matrix)).to(self.device))\n",
    "        self.adjustment.requires_grad = False\n",
    "    def forward(self, inputs, targets):\n",
    "        inputs = inputs - self.adjustment\n",
    "        return F.cross_entropy(inputs, targets)"
   ]
  },
  {
   "cell_type": "markdown",
   "metadata": {},
   "source": [
    "lets do some testing"
   ]
  },
  {
   "cell_type": "code",
   "execution_count": 7,
   "metadata": {},
   "outputs": [
    {
     "name": "stdout",
     "output_type": "stream",
     "text": [
      "tensor([[-7.5222, -0.3603, -4.7728, -2.3861, -6.2045,  2.0528,  3.8138,  0.9695,\n",
      "          3.2804,  8.7710]], device='cuda:2', grad_fn=<AddmmBackward0>)\n",
      "tensor(9.1441, device='cuda:2', dtype=torch.float64,\n",
      "       grad_fn=<NllLossBackward0>)\n",
      "None\n"
     ]
    }
   ],
   "source": [
    "import models\n",
    "loss = LALoss()\n",
    "device = torch.device('cuda:2')\n",
    "res = models.resnet56().to(device)\n",
    "output = res(torch.randn((1, 3, 32, 32)).to(device)).to(device)\n",
    "print(output)\n",
    "\n",
    "label = torch.tensor([1]).to(device)\n",
    "l = loss(output, label)\n",
    "print(l)\n",
    "l.backward()\n",
    "print(loss.adjustment.grad)"
   ]
  },
  {
   "cell_type": "markdown",
   "metadata": {},
   "source": [
    "### Metrics\n",
    "In the following function we shall feed all the outputs and the labels\\\n",
    "and the get metrics function shall return the following metrics of performance\n",
    "1. precision score class wise\n",
    "2. max precision accross all class epochwise\n",
    "3. min precision accross all class epochwise\n",
    "4. mean precision *unweighted\n",
    "5. recall score class wise\n",
    "6. max recall accross all class epochwise\n",
    "7. min recall accross all class epochwise\n",
    "8. mean recall *unweighted\n",
    "8. accuracy accross all class epochwise"
   ]
  },
  {
   "cell_type": "code",
   "execution_count": 8,
   "metadata": {},
   "outputs": [],
   "source": [
    "from sklearn.metrics import precision_score, recall_score, accuracy_score, f1_score\n",
    "\n",
    "def get_metrics(outputs, labels, classes):\n",
    "    '''\n",
    "    returns a dictionary of computed metrics\n",
    "    ARGS\n",
    "        outputs: (np.ndarray) a (N, # classes) dimensional array of output logits of the model\n",
    "        labels: (np.ndarray) a (N) dimensional array where each element is the ground truth\n",
    "                index of the corresponding output element\n",
    "        classes: (list) a list of stings of names of classes\n",
    "    RETURNS:\n",
    "        a dictionary of classification metircs, support for:\n",
    "        1. precision,\n",
    "        2. recall,\n",
    "        3. accuracy,\n",
    "        4. max precision across all classes\n",
    "        5. mean precision across all classes\n",
    "        6. min precision  across all classes\n",
    "        7. max recall  across all classes\n",
    "        8. mean recall across all classes\n",
    "        9. min recall  across all classes\n",
    "        10. f1 micro average\n",
    "        11. f1 macroa average\n",
    "\n",
    "    '''\n",
    "    precision = precision_score(labels, outputs, average=None, zero_division=0)\n",
    "    precision_avg = precision_score(labels, outputs, average='macro', zero_division=0)\n",
    "    max_precision = np.max(precision)\n",
    "    min_precision = np.min(precision)\n",
    "    mean_precision = np.mean(precision)\n",
    "    \n",
    "    recall = recall_score(labels, outputs, average=None, zero_division=0)\n",
    "    recall_avg = recall_score(labels, outputs, average='macro', zero_division=0)\n",
    "    max_recall = np.max(recall)\n",
    "    min_recall = np.min(recall)\n",
    "    mean_recall = np.mean(recall)\n",
    "    \n",
    "    f1_micro = f1_score(labels, outputs, average='micro')\n",
    "    f1_macro = f1_score(labels, outputs, average='macro')\n",
    "\n",
    "    accuracy = accuracy_score(labels, outputs)\n",
    "    metrics =   {\n",
    "                \"precision\": precision_avg,\n",
    "                \"recall\": recall_avg,\n",
    "                \"accuracy\": accuracy,\n",
    "                \"max_precision\": max_precision,\n",
    "                \"mean_precision\": mean_precision,\n",
    "                \"min_precision\": min_precision,\n",
    "                \"max_recall\": max_recall,\n",
    "                \"mean_recall\": mean_recall,\n",
    "                \"min_recall\": min_recall,\n",
    "                \"f1_micro\": f1_micro,\n",
    "                \"f1_macro\": f1_macro\n",
    "                }\n",
    "    for i, name in enumerate(classes):\n",
    "        metrics[\"precision_\" + name] = precision[i]\n",
    "        metrics[\"recall_\" + name] = recall[i]\n",
    "\n",
    "    return metrics"
   ]
  },
  {
   "cell_type": "code",
   "execution_count": 9,
   "metadata": {},
   "outputs": [],
   "source": [
    "def train(trainloader, optimizer, net, criterion, epoch, device=torch.device('cuda:2')):\n",
    "    '''\n",
    "    TODO \n",
    "    '''\n",
    "    running_loss = 0.0\n",
    "    net.train()\n",
    "    \n",
    "    for i, data in enumerate(trainloader, 0):\n",
    "        # get the inputs; data is a list of [inputs, labels]\n",
    "        inputs, labels = data\n",
    "\n",
    "        if torch.cuda.is_available():\n",
    "            inputs, labels = inputs.to(device), labels.to(device)\n",
    "        else:\n",
    "            pass\n",
    "\n",
    "        # forward + backward + optimize\n",
    "        outputs = net(inputs)\n",
    "        loss = criterion(outputs, labels)\n",
    "\n",
    "        loss_r = 0\n",
    "        for parameter in net.parameters():\n",
    "            loss_r += torch.sum(parameter ** 2)\n",
    "        loss = loss + 1e-3 * loss_r\n",
    "\n",
    "        # zero the parameter gradients\n",
    "        optimizer.zero_grad()\n",
    "\n",
    "        loss.backward()\n",
    "        optimizer.step()\n",
    "\n",
    "        # print statistics\n",
    "        running_loss = (running_loss*i + loss.item())/(i + 1)\n",
    "        if i % 200 == 199:    # print every 2000 mini-batches\n",
    "            print('[%d, %5d] loss: %.3f' %\n",
    "                  (epoch + 1, i + 1, running_loss))\n",
    "    return running_loss"
   ]
  },
  {
   "cell_type": "code",
   "execution_count": 10,
   "metadata": {},
   "outputs": [],
   "source": [
    "def test(testloader, net, device=torch.device('cuda:2')):\n",
    "    '''\n",
    "    TODO\n",
    "    '''\n",
    "    net.eval()\n",
    "    output_logs, label_logs = [], []\n",
    "\n",
    "    for i, data in enumerate(testloader, 0):\n",
    "        # get the inputs; data is a list of [inputs, labels]\n",
    "        inputs, labels = data\n",
    "        if torch.cuda.is_available():\n",
    "            inputs, labels = inputs.to(device), labels.to(device)\n",
    "        else:\n",
    "            pass\n",
    "        labels = labels.cpu().detach().numpy()\n",
    "        outputs = torch.argmax(net(inputs), dim=1).cpu().detach().numpy()\n",
    "        output_logs.append(outputs)\n",
    "        label_logs.append(labels)\n",
    "    return (np.concatenate(output_logs, axis=0), np.concatenate(label_logs, axis=0))"
   ]
  },
  {
   "cell_type": "code",
   "execution_count": 11,
   "metadata": {},
   "outputs": [],
   "source": [
    "from sklearn.metrics import confusion_matrix\n",
    "import numpy as np\n",
    "\n",
    "def validation(valloader, net, lamda, prior,lr=0.1, device='cuda:2'):\n",
    "    '''\n",
    "    Args:\n",
    "        valloader: a torch dataloader\n",
    "        net: classifier model\n",
    "        lamda: a list of lagrange multiliers float\n",
    "        prior: list of float priors.\n",
    "        lr: learning rate for ED technique\n",
    "    Returns:\n",
    "        the gain matrix\n",
    "    '''\n",
    "    net.eval()\n",
    "    outputs, labels = test(valloader, net)\n",
    "    CM = confusion_matrix(labels, outputs, normalize=\"all\")\n",
    "    diagonal = CM.diagonal().tolist()\n",
    "    lamda = [x * np.exp(-1 * lr * c_ii / p_i) for x, c_ii, p_i in zip(lamda, diagonal, prior)]\n",
    "    lamda_normalise  = sum(lamda)\n",
    "    lamda = [x/lamda_normalise for x in lamda]\n",
    "    return np.diag(lamda)"
   ]
  },
  {
   "cell_type": "code",
   "execution_count": 12,
   "metadata": {},
   "outputs": [],
   "source": [
    "from tqdm import tqdm\n",
    "import copy\n",
    "\n",
    "def loop(writer, trainloader, testloader, valloader, classes, net, optimizer, prior, lamda, epochs=1200, lr_scheduler=None):\n",
    "    logbar = tqdm(range(0, epochs), total=epochs, leave=False)\n",
    "    max_acc = 0.0\n",
    "    best_acc_model = None\n",
    "    for i in logbar:\n",
    "        G = validation(valloader, net, lamda, prior)\n",
    "        lamda = np.diag(G)\n",
    "        criterion = LALoss(gain_matrix=G)\n",
    "        train_loss = train(trainloader, optimizer, net, criterion, epoch=i)\n",
    "        lr_scheduler.step()\n",
    "        writer.add_scalar(\"train/loss\", train_loss, i)\n",
    "\n",
    "        outputs, labels = test(testloader, net)\n",
    "        metrics = get_metrics(outputs, labels, classes)\n",
    "        for key in metrics.keys():\n",
    "            writer.add_scalar(\"test/\" + key, metrics[key], i)\n",
    "        for j in range(10):\n",
    "            writer.add_scalar(\"val/lambda - \" + str(j + 1), lamda[j], i)\n",
    "        logbar.set_description(f\"Epoch [{i}/{epochs}\")\n",
    "        acc = \"accuracy\"\n",
    "        logbar.set_postfix(train_loss=f\"{train_loss:.2f}\", val_acc=f\"{metrics[acc]:.2f}\")\n",
    "        if metrics[acc] > max_acc:\n",
    "            best_acc_model = copy.deepcopy(net)\n",
    "    return best_acc_model"
   ]
  },
  {
   "cell_type": "code",
   "execution_count": 13,
   "metadata": {},
   "outputs": [],
   "source": [
    "import random\n",
    "\n",
    "\n",
    "def split(dataset):\n",
    "    dataset_len = len(dataset)\n",
    "    splits = int(0.1 * dataset_len )\n",
    "    indices = list(range(dataset_len))\n",
    "    random.shuffle(indices)\n",
    "    \n",
    "    val_idx, train_idx = indices[:splits], indices[splits:]\n",
    "    valset, trainset = copy.deepcopy(dataset), copy.deepcopy(dataset)\n",
    "    \n",
    "    valset.data=dataset.data[np.array(val_idx)]\n",
    "    valset.targets=list(dataset.targets[x] for x in val_idx)\n",
    "\n",
    "    trainset.data=dataset.data[np.array(train_idx)]\n",
    "    trainset.targets=list(dataset.targets[x] for x in train_idx)\n",
    "    return valset, trainset"
   ]
  },
  {
   "cell_type": "code",
   "execution_count": 14,
   "metadata": {},
   "outputs": [
    {
     "name": "stdout",
     "output_type": "stream",
     "text": [
      "Files already downloaded and verified\n",
      "Files already downloaded and verified\n"
     ]
    },
    {
     "data": {
      "image/png": "[encoded data removed]",
      "text/plain": [
       "<Figure size 432x288 with 1 Axes>"
      ]
     },
     "metadata": {
      "needs_background": "light"
     },
     "output_type": "display_data"
    },
    {
     "data": {
      "image/png": "[encoded data removed]",
      "text/plain": [
       "<Figure size 432x288 with 1 Axes>"
      ]
     },
     "metadata": {
      "needs_background": "light"
     },
     "output_type": "display_data"
    },
    {
     "data": {
      "image/png": "[encoded data removed]",
      "text/plain": [
       "<Figure size 432x288 with 1 Axes>"
      ]
     },
     "metadata": {
      "needs_background": "light"
     },
     "output_type": "display_data"
    },
    {
     "name": "stderr",
     "output_type": "stream",
     "text": [
      "Epoch [203/1200:  17%|█▋        | 204/1200 [35:10<2:52:16, 10.38s/it, train_loss=0.84, val_acc=0.47]"
     ]
    }
   ],
   "source": [
    "import torchvision.transforms as transforms\n",
    "\n",
    "import PIL\n",
    "\n",
    "for lamda in [0.6]:\n",
    "    writer = SummaryWriter(log_dir=\"./logs/min-recall/\")\n",
    "    batch_size = 128\n",
    "    trainloader, trainset, testloader, testset = sample()\n",
    "    trainset, train_prior, indices = subsample(trainset, lamda, class_indices=list(range(len(trainset.classes))))\n",
    "    valset, trainset = split(trainset)\n",
    "    testloader = torch.utils.data.DataLoader(testset, batch_size=batch_size,\n",
    "                                             shuffle=False, num_workers=8)\n",
    "    trainloader = torch.utils.data.DataLoader(trainset, batch_size=batch_size,\n",
    "                                              shuffle=True, num_workers=8)\n",
    "    valloader = torch.utils.data.DataLoader(valset, batch_size=batch_size,\n",
    "                                              shuffle=True, num_workers=8)\n",
    "\n",
    "    show_data_distribution(trainset, keyname=\"train dataset\")\n",
    "    show_data_distribution(testset, keyname=\"test dataset\")\n",
    "    show_data_distribution(valset, keyname=\"val dataset\")\n",
    "\n",
    "   # get some random training images\n",
    "    dataiter = iter(trainloader)\n",
    "    images, labels = dataiter.next()\n",
    "    device = torch.device('cuda:2')\n",
    "    net = models.resnet56().to(device)\n",
    "    optimizer = torch.optim.SGD(net.parameters(), lr=0.1, momentum=0.9, weight_decay=1e-4, nesterov=True)\n",
    "    lr_scheduler = torch.optim.lr_scheduler.MultiStepLR(optimizer,\n",
    "                                                        milestones=[600, 900, 1100])\n",
    "\n",
    "    best_net = loop(writer, trainloader, testloader, valloader, trainset.classes ,net, optimizer, train_prior, [0.1]*10 , 1200, lr_scheduler)\n",
    "    torch.save(best_net.state_dict(), \"./logs/res-56_cifar-10_LA.pth\")"
   ]
  },
  {
   "cell_type": "code",
   "execution_count": null,
   "metadata": {},
   "outputs": [
    {
     "name": "stdout",
     "output_type": "stream",
     "text": [
      "Wed Feb  2 22:43:28 2022       \n",
      "+-----------------------------------------------------------------------------+\n",
      "| NVIDIA-SMI 495.29.05    Driver Version: 495.29.05    CUDA Version: 11.5     |\n",
      "|-------------------------------+----------------------+----------------------+\n",
      "| GPU  Name        Persistence-M| Bus-Id        Disp.A | Volatile Uncorr. ECC |\n",
      "| Fan  Temp  Perf  Pwr:Usage/Cap|         Memory-Usage | GPU-Util  Compute M. |\n",
      "|                               |                      |               MIG M. |\n",
      "|===============================+======================+======================|\n",
      "|   0  NVIDIA GeForce ...  On   | 00000000:01:00.0 Off |                  N/A |\n",
      "| 80%   74C    P2   340W / 350W |  19629MiB / 24267MiB |     99%      Default |\n",
      "|                               |                      |                  N/A |\n",
      "+-------------------------------+----------------------+----------------------+\n",
      "|   1  NVIDIA RTX A5000    On   | 00000000:21:00.0 Off |                  Off |\n",
      "| 67%   84C    P2   223W / 230W |  16892MiB / 24256MiB |    100%      Default |\n",
      "|                               |                      |                  N/A |\n",
      "+-------------------------------+----------------------+----------------------+\n",
      "|   2  NVIDIA RTX A5000    On   | 00000000:4B:00.0 Off |                  Off |\n",
      "| 52%   77C    P2   210W / 230W |   9143MiB / 24256MiB |     82%      Default |\n",
      "|                               |                      |                  N/A |\n",
      "+-------------------------------+----------------------+----------------------+\n",
      "|   3  NVIDIA RTX A5000    On   | 00000000:4C:00.0 Off |                  Off |\n",
      "| 52%   80C    P2   177W / 230W |  15420MiB / 24256MiB |     60%      Default |\n",
      "|                               |                      |                  N/A |\n",
      "+-------------------------------+----------------------+----------------------+\n",
      "                                                                               \n",
      "+-----------------------------------------------------------------------------+\n",
      "| Processes:                                                                  |\n",
      "|  GPU   GI   CI        PID   Type   Process name                  GPU Memory |\n",
      "|        ID   ID                                                   Usage      |\n",
      "|=============================================================================|\n",
      "|    0   N/A  N/A     25146      G   /usr/lib/xorg/Xorg                 87MiB |\n",
      "|    0   N/A  N/A     25277      G   /usr/bin/gnome-shell               17MiB |\n",
      "|    0   N/A  N/A     43224      C   ...h_commentaries/bin/python     2129MiB |\n",
      "|    0   N/A  N/A     57756      C   python                          17297MiB |\n",
      "|    0   N/A  N/A    106680      G   /usr/lib/xorg/Xorg                 18MiB |\n",
      "|    0   N/A  N/A    106710      G   /usr/bin/gnome-shell               73MiB |\n",
      "|    1   N/A  N/A     25146      G   /usr/lib/xorg/Xorg                  4MiB |\n",
      "|    1   N/A  N/A     64369      C   python                          16879MiB |\n",
      "|    1   N/A  N/A    106680      G   /usr/lib/xorg/Xorg                  4MiB |\n",
      "|    2   N/A  N/A     25146      G   /usr/lib/xorg/Xorg                  4MiB |\n",
      "|    2   N/A  N/A     25583      C   python                           7495MiB |\n",
      "|    2   N/A  N/A     43224      C   ...h_commentaries/bin/python     1635MiB |\n",
      "|    2   N/A  N/A    106680      G   /usr/lib/xorg/Xorg                  4MiB |\n",
      "|    3   N/A  N/A     25146      G   /usr/lib/xorg/Xorg                  4MiB |\n",
      "|    3   N/A  N/A     64478      C   python                          15407MiB |\n",
      "|    3   N/A  N/A    106680      G   /usr/lib/xorg/Xorg                  4MiB |\n",
      "+-----------------------------------------------------------------------------+\n",
      "/bin/bash: gpustat: command not found\n"
     ]
    }
   ],
   "source": [
    "!nvidia-smi\n",
    "!gpustat"
   ]
  }
 ],
 "metadata": {
  "interpreter": {
   "hash": "3e80058e8e9fb2a722974bfab458760cf6e70ab63082d1e62f3bf27e31ba3a79"
  },
  "kernelspec": {
   "display_name": "Python 3.7.11 64-bit ('teaching_with_commentaries': conda)",
   "language": "python",
   "name": "python3"
  },
  "language_info": {
   "codemirror_mode": {
    "name": "ipython",
    "version": 3
   },
   "file_extension": ".py",
   "mimetype": "text/x-python",
   "name": "python",
   "nbconvert_exporter": "python",
   "pygments_lexer": "ipython3",
   "version": "3.7.11"
  },
  "orig_nbformat": 4
 },
 "nbformat": 4,
 "nbformat_minor": 2
}
